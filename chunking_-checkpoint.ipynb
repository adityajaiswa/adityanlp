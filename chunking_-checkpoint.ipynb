{
 "cells": [
  {
   "cell_type": "code",
   "execution_count": 1,
   "metadata": {},
   "outputs": [],
   "source": [
    "import nltk"
   ]
  },
  {
   "cell_type": "code",
   "execution_count": 2,
   "metadata": {},
   "outputs": [
    {
     "name": "stdout",
     "output_type": "stream",
     "text": [
      "(S\n",
      "  From/IN\n",
      "  (NP the/DT moment/NN)\n",
      "  he/PRP\n",
      "  stepped/VBD\n",
      "  on/IN\n",
      "  (NP the/DT stage/NN)\n",
      "  ,/,\n",
      "  it/PRP\n",
      "  was/VBD\n",
      "  obvious/JJ\n",
      "  that/IN\n",
      "  he/PRP\n",
      "  was/VBD\n",
      "  extremely/RB\n",
      "  confident/JJ)\n"
     ]
    }
   ],
   "source": [
    "stmt=\"From the moment he stepped on the stage, it was obvious that he was extremely confident\"\n",
    "nltk_tokens=nltk.word_tokenize(stmt)\n",
    "t_sp=nltk.pos_tag(nltk_tokens)\n",
    "grammar=\"NP:{<DT>?<jj>*<NN>}\"\n",
    "ucc=nltk.RegexpParser(grammar)\n",
    "result=ucc.parse(t_sp)\n",
    "print(result)"
   ]
  },
  {
   "cell_type": "code",
   "execution_count": 3,
   "metadata": {},
   "outputs": [
    {
     "data": {
      "text/plain": [
       "<bound method Tree.draw of Tree('S', [('From', 'IN'), Tree('NP', [('the', 'DT'), ('moment', 'NN')]), ('he', 'PRP'), ('stepped', 'VBD'), ('on', 'IN'), Tree('NP', [('the', 'DT'), ('stage', 'NN')]), (',', ','), ('it', 'PRP'), ('was', 'VBD'), ('obvious', 'JJ'), ('that', 'IN'), ('he', 'PRP'), ('was', 'VBD'), ('extremely', 'RB'), ('confident', 'JJ')])>"
      ]
     },
     "execution_count": 3,
     "metadata": {},
     "output_type": "execute_result"
    }
   ],
   "source": [
    "result.draw"
   ]
  },
  {
   "cell_type": "code",
   "execution_count": null,
   "metadata": {},
   "outputs": [],
   "source": []
  }
 ],
 "metadata": {
  "kernelspec": {
   "display_name": "Python 3",
   "language": "python",
   "name": "python3"
  },
  "language_info": {
   "codemirror_mode": {
    "name": "ipython",
    "version": 3
   },
   "file_extension": ".py",
   "mimetype": "text/x-python",
   "name": "python",
   "nbconvert_exporter": "python",
   "pygments_lexer": "ipython3",
   "version": "3.8.3"
  }
 },
 "nbformat": 4,
 "nbformat_minor": 4
}
